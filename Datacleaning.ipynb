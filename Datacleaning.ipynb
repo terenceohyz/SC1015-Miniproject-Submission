{
 "cells": [
  {
   "cell_type": "code",
   "execution_count": 1,
   "id": "dd0bc16c",
   "metadata": {},
   "outputs": [],
   "source": [
    "import numpy as np\n",
    "import pandas as pd\n",
    "import seaborn as sb\n",
    "import matplotlib.pyplot as plt\n",
    "sb.set() "
   ]
  },
  {
   "cell_type": "code",
   "execution_count": 52,
   "id": "3d342ccf",
   "metadata": {},
   "outputs": [],
   "source": [
    "netflixdf = pd.read_csv('netflixunclean.csv')\n",
    "incomedf = pd.read_csv('gdp.csv')\n",
    "populationdf = pd.read_csv('population.csv')"
   ]
  },
  {
   "cell_type": "code",
   "execution_count": 53,
   "id": "89a356e4",
   "metadata": {},
   "outputs": [
    {
     "data": {
      "text/plain": [
       "Country                          65\n",
       "Total Library Size               65\n",
       "No. of TV Shows                  65\n",
       "No. of Movies                    65\n",
       "Cost Per Month - Basic ($)       65\n",
       "Cost Per Month - Standard ($)    65\n",
       "Cost Per Month - Premium ($)     65\n",
       "Population (2020)                64\n",
       "Yearly Change                    64\n",
       "Net Change                       64\n",
       "Density (P/Km²)                  64\n",
       "Land Area (Km²)                  64\n",
       "Migrants (net)                   60\n",
       "Fert. Rate                       64\n",
       "Med. Age                         64\n",
       "Urban Pop %                      64\n",
       "World Share                      64\n",
       "Country Code                     60\n",
       "1990                             50\n",
       "1991                             51\n",
       "1992                             51\n",
       "1993                             52\n",
       "1994                             53\n",
       "1995                             56\n",
       "1996                             56\n",
       "1997                             57\n",
       "1998                             57\n",
       "1999                             57\n",
       "2000                             57\n",
       "2001                             57\n",
       "2002                             57\n",
       "2003                             57\n",
       "2004                             57\n",
       "2005                             57\n",
       "2006                             57\n",
       "2007                             57\n",
       "2008                             57\n",
       "2009                             57\n",
       "2010                             57\n",
       "2011                             57\n",
       "2012                             57\n",
       "2013                             57\n",
       "2014                             57\n",
       "2015                             57\n",
       "2016                             57\n",
       "2017                             57\n",
       "2018                             56\n",
       "2019                              0\n",
       "dtype: int64"
      ]
     },
     "execution_count": 53,
     "metadata": {},
     "output_type": "execute_result"
    }
   ],
   "source": [
    "df_merged = pd.merge(netflixdf, populationdf, on=['Country'], how='left')\n",
    "fulldf = pd.merge(df_merged, incomedf, on=['Country'], how='left')\n",
    "fulldf.count()"
   ]
  },
  {
   "cell_type": "code",
   "execution_count": 54,
   "id": "2a2dd88c",
   "metadata": {},
   "outputs": [
    {
     "data": {
      "text/plain": [
       "Index(['Country', 'Total Library Size', 'No. of TV Shows', 'No. of Movies',\n",
       "       'Cost Per Month - Basic ($)', 'Cost Per Month - Standard ($)',\n",
       "       'Cost Per Month - Premium ($)', 'Population (2020)', 'Yearly Change',\n",
       "       'Net Change', 'Density (P/Km²)', 'Land Area (Km²)', 'Migrants (net)',\n",
       "       'Fert. Rate', 'Med. Age', 'Urban Pop %', 'World Share', 'Country Code',\n",
       "       '1990', '1991', '1992', '1993', '1994', '1995', '1996', '1997', '1998',\n",
       "       '1999', '2000', '2001', '2002', '2003', '2004', '2005', '2006', '2007',\n",
       "       '2008', '2009', '2010', '2011', '2012', '2013', '2014', '2015', '2016',\n",
       "       '2017', '2018', '2019'],\n",
       "      dtype='object')"
      ]
     },
     "execution_count": 54,
     "metadata": {},
     "output_type": "execute_result"
    }
   ],
   "source": [
    "fulldf.columns"
   ]
  },
  {
   "cell_type": "code",
   "execution_count": 55,
   "id": "556723c1",
   "metadata": {
    "scrolled": true
   },
   "outputs": [
    {
     "data": {
      "text/plain": [
       "Country                          60\n",
       "Total Library Size               60\n",
       "No. of TV Shows                  60\n",
       "No. of Movies                    60\n",
       "Cost Per Month - Basic ($)       60\n",
       "Cost Per Month - Standard ($)    60\n",
       "Cost Per Month - Premium ($)     60\n",
       "Population (2020)                60\n",
       "Yearly Change                    60\n",
       "Net Change                       60\n",
       "Density (P/Km²)                  60\n",
       "Land Area (Km²)                  60\n",
       "Migrants (net)                   60\n",
       "Fert. Rate                       60\n",
       "Med. Age                         60\n",
       "Urban Pop %                      60\n",
       "World Share                      60\n",
       "GDP per Capita                   60\n",
       "GNI per Capita                   60\n",
       "dtype: int64"
      ]
     },
     "execution_count": 55,
     "metadata": {},
     "output_type": "execute_result"
    }
   ],
   "source": [
    "fulldf.drop(['Land Area (Km²)', 'Migrants (net)',\n",
    "       'Fert. Rate', 'Med. Age', 'Urban Pop %', 'World Share', 'Country Code',\n",
    "       '1990', '1991', '1992', '1993', '1994', '1995', '1996', '1997', '1998',\n",
    "       '1999', '2000', '2001', '2002', '2003', '2004', '2005', '2006', '2007',\n",
    "       '2008', '2009', '2010', '2011', '2012', '2013', '2014', '2015', '2016',\n",
    "       '2017', '2019', 'Population (2020)', 'Yearly Change',\n",
    "       'Net Change', 'No. of TV Shows', 'No. of Movies'], axis=1, inplace=True)"
   ]
  },
  {
   "cell_type": "code",
   "execution_count": 56,
   "id": "e3988b1b",
   "metadata": {},
   "outputs": [
    {
     "data": {
      "text/plain": [
       "Index(['Country', 'Total Library Size', 'Cost Per Month - Basic ($)',\n",
       "       'Cost Per Month - Standard ($)', 'Cost Per Month - Premium ($)',\n",
       "       'Density (P/Km²)', '2018'],\n",
       "      dtype='object')"
      ]
     },
     "execution_count": 56,
     "metadata": {},
     "output_type": "execute_result"
    }
   ],
   "source": [
    "fulldf.columns"
   ]
  },
  {
   "cell_type": "code",
   "execution_count": 68,
   "id": "86605d25",
   "metadata": {},
   "outputs": [],
   "source": [
    "fulldf = fulldf.dropna()\n",
    "fulldf = fulldf[fulldf['2018'] >= 0]\n",
    "fulldf = fulldf[fulldf['Density (P/Km²)'] >= 0]\n",
    "fulldf = fulldf[fulldf['Cost Per Month - Basic ($)'] >= 0]\n",
    "fulldf = fulldf[fulldf['Cost Per Month - Standard ($)'] >= 0]\n",
    "fulldf = fulldf[fulldf['Cost Per Month - Premium ($)'] >= 0]\n",
    "fulldf = fulldf[fulldf['Total Library Size'] >= 0]"
   ]
  },
  {
   "cell_type": "code",
   "execution_count": 69,
   "id": "49f49965",
   "metadata": {},
   "outputs": [
    {
     "data": {
      "text/plain": [
       "Country                          56\n",
       "Total Library Size               56\n",
       "Cost Per Month - Basic ($)       56\n",
       "Cost Per Month - Standard ($)    56\n",
       "Cost Per Month - Premium ($)     56\n",
       "Density (P/Km²)                  56\n",
       "2018                             56\n",
       "dtype: int64"
      ]
     },
     "execution_count": 69,
     "metadata": {},
     "output_type": "execute_result"
    }
   ],
   "source": [
    "fulldf.count()"
   ]
  },
  {
   "cell_type": "code",
   "execution_count": 51,
   "id": "18c90f3f",
   "metadata": {},
   "outputs": [],
   "source": [
    "fulldf.to_csv(\"C:\\\\Users\\\\teren\\\\Desktop\\\\cleaned_data.csv\")"
   ]
  },
  {
   "cell_type": "code",
   "execution_count": null,
   "id": "350c8ba6",
   "metadata": {},
   "outputs": [],
   "source": []
  }
 ],
 "metadata": {
  "kernelspec": {
   "display_name": "Python 3 (ipykernel)",
   "language": "python",
   "name": "python3"
  },
  "language_info": {
   "codemirror_mode": {
    "name": "ipython",
    "version": 3
   },
   "file_extension": ".py",
   "mimetype": "text/x-python",
   "name": "python",
   "nbconvert_exporter": "python",
   "pygments_lexer": "ipython3",
   "version": "3.9.7"
  }
 },
 "nbformat": 4,
 "nbformat_minor": 5
}
